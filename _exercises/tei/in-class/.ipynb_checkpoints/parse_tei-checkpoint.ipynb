{
 "cells": [
  {
   "cell_type": "markdown",
   "id": "b279cff9",
   "metadata": {},
   "source": [
    "# Parsing a TEI Document"
   ]
  },
  {
   "cell_type": "markdown",
   "id": "4863b54d",
   "metadata": {},
   "source": [
    "## Brief Introduction to TEI"
   ]
  },
  {
   "cell_type": "markdown",
   "id": "681154a5",
   "metadata": {},
   "source": [
    "The Text Encoding Initiative (TEI) is both a standard for encoding texts to be machine actionable and an organization that oversees the TEI standards. \n",
    "\n",
    "As standard, TEI provides a uniform way for humanities scholars to encode literary and documentary texts in a uniform way allowing them to be machine actionable for display, searching, or processing. TEI is a set of tags that piggy-back on basic XML.\n",
    "\n",
    "To learn more, please see the following:\n",
    "* [Text Encoding Initiative Home Page](https://tei-c.org/)\n",
    "* [What is the TEI from the Women Writers Project](https://www.wwp.northeastern.edu/outreach/seminars/tei.html)\n",
    "* [TEI By Example Project](https://teibyexample.org/)\n",
    "* [Introduction to XML](https://www.w3schools.com/xml/xml_whatis.asp)\n"
   ]
  },
  {
   "cell_type": "markdown",
   "id": "8b63af3b",
   "metadata": {},
   "source": [
    "## Parsing TEI"
   ]
  },
  {
   "cell_type": "code",
   "execution_count": 1,
   "id": "e1763d24",
   "metadata": {},
   "outputs": [],
   "source": [
    "# imports\n",
    "from bs4 import BeautifulSoup\n",
    "import re\n",
    "import pandas as pd"
   ]
  },
  {
   "cell_type": "code",
   "execution_count": 2,
   "id": "6c5ad335",
   "metadata": {},
   "outputs": [],
   "source": [
    "# load xml file\n",
    "with open('gibbon.xml', encoding='utf8', mode='r') as f:\n",
    "    tei_string = f.read()"
   ]
  },
  {
   "cell_type": "code",
   "execution_count": 3,
   "id": "43f4623c",
   "metadata": {},
   "outputs": [
    {
     "data": {
      "text/plain": [
       "'<TEI xmlns=\"http://www.tei-c.org/ns/1.0\">\\n    <teiHeader>\\n        <fileDesc>\\n            <titleStmt>\\n                <title>The history of the decline and fall of the Roman Empire: By Edward Gibbon, Esq; ... [pt.2]</title>\\n                <author>Gibbon, Edward, 1737-1794.</author>\\n            </titleStmt>\\n            <extent>511 600dpi bitonal TIFF page images and SGML/XML encoded text</extent>\\n            <publicationStmt>\\n                <publisher>University of Michigan Library</publisher>\\n '"
      ]
     },
     "execution_count": 3,
     "metadata": {},
     "output_type": "execute_result"
    }
   ],
   "source": [
    "# just to show that file loaded properly\n",
    "tei_string[:500]"
   ]
  },
  {
   "cell_type": "code",
   "execution_count": 4,
   "id": "c6d44348",
   "metadata": {},
   "outputs": [],
   "source": [
    "# use BeatifulSoup to instantiate tei object\n",
    "tei_object = BeautifulSoup(tei_string)"
   ]
  },
  {
   "cell_type": "code",
   "execution_count": 5,
   "id": "d47eb421",
   "metadata": {},
   "outputs": [],
   "source": [
    "# find all margin notes\n",
    "margin_notes = tei_object.find_all('note', attrs={'place':'margin'})"
   ]
  },
  {
   "cell_type": "code",
   "execution_count": 7,
   "id": "f9797f41",
   "metadata": {},
   "outputs": [
    {
     "data": {
      "text/plain": [
       "402"
      ]
     },
     "execution_count": 7,
     "metadata": {},
     "output_type": "execute_result"
    }
   ],
   "source": [
    "# just to see how many margin notes there are\n",
    "len(margin_notes)"
   ]
  },
  {
   "cell_type": "code",
   "execution_count": 10,
   "id": "80dd9118",
   "metadata": {},
   "outputs": [
    {
     "name": "stdout",
     "output_type": "stream",
     "text": [
      "\n",
      "                        Aureolus invades Italy, is defeated and be\n",
      "                        \n",
      "                        ſieged at Milan.\n",
      "                    \n"
     ]
    }
   ],
   "source": [
    "# clean margin notes and add to a list\n",
    "clean_margin_notes = []\n",
    "for margin_note in margin_notes[:1]:\n",
    "    margin_note = re.sub(r'[\\ \\n]{2,}')"
   ]
  },
  {
   "cell_type": "code",
   "execution_count": null,
   "id": "a27fe407",
   "metadata": {},
   "outputs": [],
   "source": [
    "# convert list to dataframe\n"
   ]
  },
  {
   "cell_type": "code",
   "execution_count": null,
   "id": "264eada3",
   "metadata": {},
   "outputs": [],
   "source": [
    "# check dataframe\n"
   ]
  },
  {
   "cell_type": "code",
   "execution_count": null,
   "id": "0343fcbc",
   "metadata": {},
   "outputs": [],
   "source": [
    "# save datafram as csv\n"
   ]
  }
 ],
 "metadata": {
  "kernelspec": {
   "display_name": "Python 3 (ipykernel)",
   "language": "python",
   "name": "python3"
  },
  "language_info": {
   "codemirror_mode": {
    "name": "ipython",
    "version": 3
   },
   "file_extension": ".py",
   "mimetype": "text/x-python",
   "name": "python",
   "nbconvert_exporter": "python",
   "pygments_lexer": "ipython3",
   "version": "3.9.12"
  }
 },
 "nbformat": 4,
 "nbformat_minor": 5
}
