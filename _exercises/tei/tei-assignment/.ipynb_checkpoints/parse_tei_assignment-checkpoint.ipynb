{
 "cells": [
  {
   "cell_type": "markdown",
   "id": "b279cff9",
   "metadata": {},
   "source": [
    "# Parsing a TEI Document - Assignment"
   ]
  },
  {
   "cell_type": "markdown",
   "id": "4863b54d",
   "metadata": {},
   "source": [
    "## Instructions"
   ]
  },
  {
   "cell_type": "markdown",
   "id": "681154a5",
   "metadata": {},
   "source": [
    "1. Parse the tei text of Gibbon's _Decline and Fall_ as found in `gibbon.xml`.\n",
    "2. Extract all the footnotes and remove extraneous white space.\n",
    "3. Place footnotes in a dataframe.\n",
    "4. Save the dataframe as a csv file."
   ]
  },
  {
   "cell_type": "markdown",
   "id": "8b63af3b",
   "metadata": {},
   "source": [
    "## Parsing TEI"
   ]
  },
  {
   "cell_type": "code",
   "execution_count": 1,
   "id": "e1763d24",
   "metadata": {},
   "outputs": [],
   "source": [
    "# imports\n",
    "from bs4 import BeautifulSoup\n",
    "import re\n",
    "import pandas as pd"
   ]
  },
  {
   "cell_type": "code",
   "execution_count": 3,
   "id": "6c5ad335",
   "metadata": {},
   "outputs": [],
   "source": [
    "# load xml file\n",
    "with open('../in-class/gibbon.xml', encoding='utf8', mode='r') as f:\n",
    "    tei_string = f.read()"
   ]
  },
  {
   "cell_type": "code",
   "execution_count": 4,
   "id": "c6d44348",
   "metadata": {},
   "outputs": [],
   "source": [
    "# use BeatifulSoup to insantiate tei object\n",
    "tei_object = BeautifulSoup(tei_string)"
   ]
  },
  {
   "cell_type": "code",
   "execution_count": 5,
   "id": "d47eb421",
   "metadata": {},
   "outputs": [],
   "source": [
    "# find all margin notes\n",
    "margin_notes = tei_object.find_all('note', attrs={'place':'margin'})"
   ]
  },
  {
   "cell_type": "code",
   "execution_count": 6,
   "id": "80dd9118",
   "metadata": {},
   "outputs": [],
   "source": [
    "# clean margin notes and add to a list\n",
    "clean_margin_notes = []\n",
    "for margin_note in margin_notes:\n",
    "    margin_note_text = re.sub(r'[\\ \\n]{2,}', '', margin_note.text)\n",
    "    clean_margin_notes.append(margin_note_text)"
   ]
  },
  {
   "cell_type": "code",
   "execution_count": 7,
   "id": "a27fe407",
   "metadata": {},
   "outputs": [],
   "source": [
    "# convert list to dataframe\n",
    "df = pd.DataFrame(clean_margin_notes)"
   ]
  },
  {
   "cell_type": "code",
   "execution_count": 8,
   "id": "264eada3",
   "metadata": {},
   "outputs": [
    {
     "data": {
      "text/html": [
       "<div>\n",
       "<style scoped>\n",
       "    .dataframe tbody tr th:only-of-type {\n",
       "        vertical-align: middle;\n",
       "    }\n",
       "\n",
       "    .dataframe tbody tr th {\n",
       "        vertical-align: top;\n",
       "    }\n",
       "\n",
       "    .dataframe thead th {\n",
       "        text-align: right;\n",
       "    }\n",
       "</style>\n",
       "<table border=\"1\" class=\"dataframe\">\n",
       "  <thead>\n",
       "    <tr style=\"text-align: right;\">\n",
       "      <th></th>\n",
       "      <th>0</th>\n",
       "    </tr>\n",
       "  </thead>\n",
       "  <tbody>\n",
       "    <tr>\n",
       "      <th>0</th>\n",
       "      <td>Aureolus invades Italy, is defeated and beſieg...</td>\n",
       "    </tr>\n",
       "    <tr>\n",
       "      <th>1</th>\n",
       "      <td>A. D. 268.</td>\n",
       "    </tr>\n",
       "    <tr>\n",
       "      <th>2</th>\n",
       "      <td>A. D. 268. March 20. Death of Gallienus.</td>\n",
       "    </tr>\n",
       "    <tr>\n",
       "      <th>3</th>\n",
       "      <td>Character and elevation of the emperor Claudius.</td>\n",
       "    </tr>\n",
       "    <tr>\n",
       "      <th>4</th>\n",
       "      <td>Death of Aureolus.</td>\n",
       "    </tr>\n",
       "  </tbody>\n",
       "</table>\n",
       "</div>"
      ],
      "text/plain": [
       "                                                   0\n",
       "0  Aureolus invades Italy, is defeated and beſieg...\n",
       "1                                         A. D. 268.\n",
       "2           A. D. 268. March 20. Death of Gallienus.\n",
       "3   Character and elevation of the emperor Claudius.\n",
       "4                                 Death of Aureolus."
      ]
     },
     "execution_count": 8,
     "metadata": {},
     "output_type": "execute_result"
    }
   ],
   "source": [
    "# check dataframe\n",
    "df.head()"
   ]
  },
  {
   "cell_type": "code",
   "execution_count": 9,
   "id": "0343fcbc",
   "metadata": {},
   "outputs": [],
   "source": [
    "# save dataframe as csv\n",
    "df.to_csv('margin_notes.csv')"
   ]
  },
  {
   "cell_type": "code",
   "execution_count": null,
   "id": "3a2f48d3",
   "metadata": {},
   "outputs": [],
   "source": []
  }
 ],
 "metadata": {
  "kernelspec": {
   "display_name": "Python 3 (ipykernel)",
   "language": "python",
   "name": "python3"
  },
  "language_info": {
   "codemirror_mode": {
    "name": "ipython",
    "version": 3
   },
   "file_extension": ".py",
   "mimetype": "text/x-python",
   "name": "python",
   "nbconvert_exporter": "python",
   "pygments_lexer": "ipython3",
   "version": "3.9.12"
  }
 },
 "nbformat": 4,
 "nbformat_minor": 5
}
