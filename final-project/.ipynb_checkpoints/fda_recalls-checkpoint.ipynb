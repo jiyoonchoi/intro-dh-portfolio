{
 "cells": [
  {
   "cell_type": "markdown",
   "id": "d1fbdfbb",
   "metadata": {},
   "source": [
    "# Food Recalls in the United States"
   ]
  },
  {
   "cell_type": "markdown",
   "id": "66bfc991",
   "metadata": {},
   "source": [
    "## Data-gathering and Preparation\n",
    "text"
   ]
  },
  {
   "cell_type": "markdown",
   "id": "7c478f4b",
   "metadata": {},
   "source": [
    "### Initial installations"
   ]
  },
  {
   "cell_type": "code",
   "execution_count": null,
   "id": "da39efd2",
   "metadata": {},
   "outputs": [],
   "source": [
    "# installing packages\n",
    "pip install pandas bokeh pyproj\n",
    "pip install \"pandas>=1.2.0,<1.2.3\" \"bokeh>=2.0.0,<2.3.0\" \"pyproj>=3.0,<3.0.1\""
   ]
  },
  {
   "cell_type": "markdown",
   "id": "d10b5f38",
   "metadata": {},
   "source": [
    "### Using Pandas to Read in CSV Data"
   ]
  },
  {
   "cell_type": "code",
   "execution_count": 33,
   "id": "41dbd1c1",
   "metadata": {},
   "outputs": [
    {
     "name": "stdout",
     "output_type": "stream",
     "text": [
      "      start_date    end_date               id  \\\n",
      "0     2010-01-09  2012-06-03         001-2010   \n",
      "1     2010-01-11  2013-06-03         002-2010   \n",
      "2     2010-01-15  2013-06-03         003-2010   \n",
      "3     2010-01-18  2013-06-03         004-2010   \n",
      "4     2010-01-20  2013-06-03         005-2010   \n",
      "...          ...         ...              ...   \n",
      "1333  2022-09-23         NaN         033-2022   \n",
      "1334  2022-09-24         NaN         034-2022   \n",
      "1335  2022-10-01         NaN  PHA-10012022-01   \n",
      "1336  2022-10-13         NaN  PHA-10132022-01   \n",
      "1337  2022-10-16         NaN         035-2022   \n",
      "\n",
      "                                                  title  \\\n",
      "0     California Firm Recalls Pork Skin Products Due...   \n",
      "1     Massachusetts Firm Recalls Beef Products Due t...   \n",
      "2     New York Firm Recalls Beef Carcass That Contai...   \n",
      "3     California Firm Recalls Beef Products Due to P...   \n",
      "4     Indiana Firm Recalls Frozen Chicken Pot Pie Pr...   \n",
      "...                                                 ...   \n",
      "1333  Empanadas Valrico Inc. Recalls Beef and Chicke...   \n",
      "1334  Behrmann Meat and Processing Inc. Recalls Vari...   \n",
      "1335  FSIS Issues Public Health Alert for Ready-To-E...   \n",
      "1336   FSIS Issues Public Health Alert for Ground Be...   \n",
      "1337  AdvancePierre Foods Inc. Recalls Pork Fritter ...   \n",
      "\n",
      "                                                    url  \\\n",
      "0     https://www.fsis.usda.gov/recalls-alerts/calif...   \n",
      "1     https://www.fsis.usda.gov/recalls-alerts/massa...   \n",
      "2     https://www.fsis.usda.gov/recalls-alerts/new-y...   \n",
      "3     https://www.fsis.usda.gov/recalls-alerts/calif...   \n",
      "4     https://www.fsis.usda.gov/recalls-alerts/india...   \n",
      "...                                                 ...   \n",
      "1333  https://www.fsis.usda.gov/recalls-alerts/empan...   \n",
      "1334  https://www.fsis.usda.gov/recalls-alerts/behrm...   \n",
      "1335  https://www.fsis.usda.gov/recalls-alerts/fsis-...   \n",
      "1336  https://www.fsis.usda.gov/recalls-alerts/fsis-...   \n",
      "1337  https://www.fsis.usda.gov/recalls-alerts/advan...   \n",
      "\n",
      "                                     reasons  status risk_level  \\\n",
      "0          Misbranding, Unreported Allergens  Closed       High   \n",
      "1                      Product Contamination  Closed       High   \n",
      "2                      Product Contamination  Closed        Low   \n",
      "3                      Product Contamination  Closed       High   \n",
      "4                      Product Contamination  Closed       High   \n",
      "...                                      ...     ...        ...   \n",
      "1333  Produced Without Benefit of Inspection  Active       High   \n",
      "1334                   Product Contamination  Active       High   \n",
      "1335                   Product Contamination  Active        NaN   \n",
      "1336                   Product Contamination  Active        NaN   \n",
      "1337                   Product Contamination  Active       High   \n",
      "\n",
      "          establishment_id             establishment_slug  \\\n",
      "0               M525+P2854      rudolph-foods-company-inc   \n",
      "1              M5497+V5497  adams-farm-slaughterhouse-llc   \n",
      "2                      NaN                            NaN   \n",
      "3                      NaN                            NaN   \n",
      "4                      NaN                            NaN   \n",
      "...                    ...                            ...   \n",
      "1333                   NaN                            NaN   \n",
      "1334                M20917   behrmann-meat-processing-inc   \n",
      "1335                   NaN                            NaN   \n",
      "1336                   NaN                            NaN   \n",
      "1337  M2260Y+P2260Y+V2260Y      advancepierre-foods-inc-6   \n",
      "\n",
      "                    establishment_name  \\\n",
      "0           Rudolph Foods Company Inc.   \n",
      "1        Adams Farm Slaughterhouse LLC   \n",
      "2                                  NaN   \n",
      "3                                  NaN   \n",
      "4                                  NaN   \n",
      "...                                ...   \n",
      "1333                               NaN   \n",
      "1334  Behrmann Meat & Processing, Inc.   \n",
      "1335                               NaN   \n",
      "1336                               NaN   \n",
      "1337         AdvancePierre Foods, Inc.   \n",
      "\n",
      "                         establishment_address establishment_telephone  \\\n",
      "0     920 West 4th Street   Beaumont, CA 92223          (909) 388-2202   \n",
      "1             854 Bearsden Rd   Athol, MA 1331          (978) 249-9441   \n",
      "2                                          NaN                     NaN   \n",
      "3                                          NaN                     NaN   \n",
      "4                                          NaN                     NaN   \n",
      "...                                        ...                     ...   \n",
      "1333                                       NaN                     NaN   \n",
      "1334     303 E. St. Rt. 161   Albers, IL 62215          (618) 248-5151   \n",
      "1335                                       NaN                     NaN   \n",
      "1336                                       NaN                     NaN   \n",
      "1337      201 S. Raleigh Road   Enid, OK 73701          (580) 616-4728   \n",
      "\n",
      "     establishment_grant_date  \\\n",
      "0                  2016-08-01   \n",
      "1                  2022-02-17   \n",
      "2                         NaN   \n",
      "3                         NaN   \n",
      "4                         NaN   \n",
      "...                       ...   \n",
      "1333                      NaN   \n",
      "1334               2003-04-25   \n",
      "1335                      NaN   \n",
      "1336                      NaN   \n",
      "1337               2021-04-12   \n",
      "\n",
      "                               establishment_activities  quantity_recovered  \\\n",
      "0                   Meat Processing, Poultry Processing               117.0   \n",
      "1     Meat Processing, Meat Slaughter, Voluntary Pro...              1391.0   \n",
      "2                                                   NaN               218.0   \n",
      "3                                                   NaN            277604.0   \n",
      "4                                                   NaN              4800.0   \n",
      "...                                                 ...                 ...   \n",
      "1333                                                NaN                 NaN   \n",
      "1334                    Meat Processing, Meat Slaughter                 NaN   \n",
      "1335                                                NaN                 NaN   \n",
      "1336                                                NaN                 NaN   \n",
      "1337                Meat Processing, Poultry Processing                 NaN   \n",
      "\n",
      "     quantity_unit                                             states  \n",
      "0           pounds                                         California  \n",
      "1           pounds                                      Massachusetts  \n",
      "2           pounds                                           New York  \n",
      "3           pounds                                         California  \n",
      "4           pounds  Delaware, Florida, Illinois, Indiana, Iowa, Ke...  \n",
      "...            ...                                                ...  \n",
      "1333           NaN                                                NaN  \n",
      "1334           NaN                                                NaN  \n",
      "1335           NaN                                          Minnesota  \n",
      "1336           NaN                                                NaN  \n",
      "1337           NaN                                           Virginia  \n",
      "\n",
      "[1338 rows x 18 columns]\n"
     ]
    }
   ],
   "source": [
    "# loading data in pandas\n",
    "import pandas as pd\n",
    "\n",
    "file = \"recalls.csv\"\n",
    "df = pd.read_csv(file)\n",
    "print(df)"
   ]
  },
  {
   "cell_type": "code",
   "execution_count": 34,
   "id": "baafc544",
   "metadata": {},
   "outputs": [
    {
     "data": {
      "text/plain": [
       "['start_date',\n",
       " 'end_date',\n",
       " 'id',\n",
       " 'title',\n",
       " 'url',\n",
       " 'reasons',\n",
       " 'status',\n",
       " 'risk_level',\n",
       " 'establishment_id',\n",
       " 'establishment_slug',\n",
       " 'establishment_name',\n",
       " 'establishment_address',\n",
       " 'establishment_telephone',\n",
       " 'establishment_grant_date',\n",
       " 'establishment_activities',\n",
       " 'quantity_recovered',\n",
       " 'quantity_unit',\n",
       " 'states']"
      ]
     },
     "execution_count": 34,
     "metadata": {},
     "output_type": "execute_result"
    }
   ],
   "source": [
    "df.columns.tolist()"
   ]
  },
  {
   "cell_type": "markdown",
   "id": "e36f4480",
   "metadata": {},
   "source": [
    "## Code\n",
    "text"
   ]
  },
  {
   "cell_type": "markdown",
   "id": "c088f7a5",
   "metadata": {},
   "source": [
    "### Using Bokeh to Visualize the Data (Categorical Bar Chart)"
   ]
  },
  {
   "cell_type": "code",
   "execution_count": 35,
   "id": "9208237e",
   "metadata": {},
   "outputs": [],
   "source": [
    "# creating a scatter plot\n",
    "from bokeh.plotting import figure, output_file, show\n",
    "from bokeh.models import ColumnDataSource\n",
    "from bokeh.models.tools import HoverTool\n",
    "\n",
    "from bokeh.palettes import Spectral5\n",
    "from bokeh.transform import factor_cmap\n",
    "\n",
    "output_file('risk_levels.html')"
   ]
  },
  {
   "cell_type": "code",
   "execution_count": 54,
   "id": "0e511b48",
   "metadata": {},
   "outputs": [],
   "source": [
    "# using groupby dataframe method\n",
    "grouped = df.groupby('risk_level')[['quantity_recovered']].sum()"
   ]
  },
  {
   "cell_type": "code",
   "execution_count": 55,
   "id": "4623fd1a",
   "metadata": {},
   "outputs": [
    {
     "name": "stdout",
     "output_type": "stream",
     "text": [
      "            quantity_recovered\n",
      "risk_level                    \n",
      "High                45877378.0\n",
      "Low                  5924153.0\n",
      "Marginal              814947.0\n"
     ]
    }
   ],
   "source": [
    "# printing out data\n",
    "print(grouped)"
   ]
  },
  {
   "cell_type": "code",
   "execution_count": 56,
   "id": "4db8365b",
   "metadata": {},
   "outputs": [],
   "source": [
    "# convert to tons\n",
    "grouped = grouped / 2000"
   ]
  },
  {
   "cell_type": "code",
   "execution_count": 57,
   "id": "552398e9",
   "metadata": {},
   "outputs": [],
   "source": [
    "# create a ColumnDataSource from grouped data and create a figure\n",
    "source = ColumnDataSource(grouped)\n",
    "risk_levels = source.data['risk_level'].tolist()\n",
    "p = figure(x_range=risk_levels)"
   ]
  },
  {
   "cell_type": "code",
   "execution_count": 58,
   "id": "1a88bba2",
   "metadata": {},
   "outputs": [],
   "source": [
    "# add title and label axes\n",
    "color_map = factor_cmap(field_name='risk_level',\n",
    "                    palette=Spectral5, factors=risk_levels)\n",
    "\n",
    "p.vbar(x='risk_level', top='quantity_recovered', source=source, width=0.70, color=color_map)\n",
    "\n",
    "p.title.text ='Quantity of FDA Recalled Foods by Risk Level'\n",
    "p.xaxis.axis_label = 'Risk Level'\n",
    "p.yaxis.axis_label = 'Quantity Recovered (in tons)'"
   ]
  },
  {
   "cell_type": "code",
   "execution_count": 59,
   "id": "79ed3447",
   "metadata": {},
   "outputs": [],
   "source": [
    "# add interactive hovering element\n",
    "hover = HoverTool()\n",
    "hover.tooltips = [\n",
    "    (\"Totals\", \"@quantity_recovered Quantity Recovered\")]\n",
    "\n",
    "hover.mode = 'vline'\n",
    "\n",
    "p.add_tools(hover)\n",
    "\n",
    "show(p)"
   ]
  },
  {
   "cell_type": "markdown",
   "id": "3ae10510",
   "metadata": {},
   "source": [
    "## Artifacts\n",
    "data visualization and map"
   ]
  },
  {
   "cell_type": "markdown",
   "id": "e558d93a",
   "metadata": {},
   "source": [
    "## Written Discussion\n",
    "Contextualize your research question\n",
    "\n",
    "Describe your data-set and data preparation\n",
    "\n",
    "Discuss any issues with your code\n",
    "\n",
    "Interpret your artifact\n",
    "\n",
    "Provide a conclusion to the project"
   ]
  }
 ],
 "metadata": {
  "kernelspec": {
   "display_name": "Python 3 (ipykernel)",
   "language": "python",
   "name": "python3"
  },
  "language_info": {
   "codemirror_mode": {
    "name": "ipython",
    "version": 3
   },
   "file_extension": ".py",
   "mimetype": "text/x-python",
   "name": "python",
   "nbconvert_exporter": "python",
   "pygments_lexer": "ipython3",
   "version": "3.9.12"
  }
 },
 "nbformat": 4,
 "nbformat_minor": 5
}
