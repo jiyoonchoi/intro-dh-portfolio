{
 "cells": [
  {
   "cell_type": "markdown",
   "id": "18f17f54",
   "metadata": {},
   "source": [
    "## Source\n",
    "\n",
    "[Adam Crymble, \"Using Gazetteers to Extract Sets of Keywords from Free-Flowing Texts,\" Programming Historian 4 (2015), https://doi.org/10.46430/phen0045.](https://programminghistorian.org/en/lessons/extracting-keywords)"
   ]
  },
  {
   "cell_type": "markdown",
   "id": "f9ac1694",
   "metadata": {},
   "source": [
    "## Reflection\n",
    "\n",
    "TODO"
   ]
  },
  {
   "cell_type": "markdown",
   "id": "66b7de7c",
   "metadata": {},
   "source": [
    "## Code"
   ]
  },
  {
   "cell_type": "markdown",
   "id": "0ba21eb4",
   "metadata": {},
   "source": [
    "## Preparing the Data for Analysis"
   ]
  },
  {
   "cell_type": "code",
   "execution_count": null,
   "id": "3e457bb8",
   "metadata": {},
   "outputs": [],
   "source": []
  }
 ],
 "metadata": {
  "kernelspec": {
   "display_name": "Python 3 (ipykernel)",
   "language": "python",
   "name": "python3"
  },
  "language_info": {
   "codemirror_mode": {
    "name": "ipython",
    "version": 3
   },
   "file_extension": ".py",
   "mimetype": "text/x-python",
   "name": "python",
   "nbconvert_exporter": "python",
   "pygments_lexer": "ipython3",
   "version": "3.9.12"
  }
 },
 "nbformat": 4,
 "nbformat_minor": 5
}
