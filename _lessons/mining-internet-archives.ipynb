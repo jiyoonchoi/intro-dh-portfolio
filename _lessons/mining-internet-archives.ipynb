{
 "cells": [
  {
   "cell_type": "markdown",
   "id": "18f17f54",
   "metadata": {},
   "source": [
    "## Source\n",
    "\n",
    "[Caleb McDaniel, \"Data Mining the Internet Archive Collection,\" Programming Historian 3 (2014), https://doi.org/10.46430/phen0035.](https://programminghistorian.org/en/lessons/data-mining-the-internet-archive)"
   ]
  },
  {
   "cell_type": "markdown",
   "id": "f9ac1694",
   "metadata": {},
   "source": [
    "## Reflection\n",
    "\n"
   ]
  },
  {
   "cell_type": "markdown",
   "id": "51043a6e",
   "metadata": {},
   "source": [
    "TODO"
   ]
  },
  {
   "cell_type": "markdown",
   "id": "9ae16d1d",
   "metadata": {},
   "source": [
    "## Code"
   ]
  },
  {
   "cell_type": "markdown",
   "id": "0b09a8cc",
   "metadata": {},
   "source": [
    "## Preparing Data for Analysis"
   ]
  },
  {
   "cell_type": "code",
   "execution_count": 5,
   "id": "d8a348f6",
   "metadata": {},
   "outputs": [
    {
     "ename": "SyntaxError",
     "evalue": "invalid syntax (3719670480.py, line 2)",
     "output_type": "error",
     "traceback": [
      "\u001b[0;36m  Input \u001b[0;32mIn [5]\u001b[0;36m\u001b[0m\n\u001b[0;31m    sudo pip install internetarchive\u001b[0m\n\u001b[0m         ^\u001b[0m\n\u001b[0;31mSyntaxError\u001b[0m\u001b[0;31m:\u001b[0m invalid syntax\n"
     ]
    }
   ],
   "source": [
    "# install internetarchive\n",
    "sudo pip install internetarchive\n",
    "\n",
    "# install pymarc\n",
    "sudo pip install pymarc"
   ]
  },
  {
   "cell_type": "markdown",
   "id": "0bebc216",
   "metadata": {},
   "source": [
    "## Accessing an Internet Archive Collection in Python"
   ]
  },
  {
   "cell_type": "code",
   "execution_count": 2,
   "id": "fe5b6b94",
   "metadata": {},
   "outputs": [
    {
     "ename": "SyntaxError",
     "evalue": "Missing parentheses in call to 'print'. Did you mean print(search.num_found)? (2637328764.py, line 4)",
     "output_type": "error",
     "traceback": [
      "\u001b[0;36m  Input \u001b[0;32mIn [2]\u001b[0;36m\u001b[0m\n\u001b[0;31m    print search.num_found\u001b[0m\n\u001b[0m          ^\u001b[0m\n\u001b[0;31mSyntaxError\u001b[0m\u001b[0;31m:\u001b[0m Missing parentheses in call to 'print'. Did you mean print(search.num_found)?\n"
     ]
    }
   ],
   "source": [
    "# import whole library\n",
    "import internetarchive\n",
    "search = internetarchive.search_items('collection:nasa')\n",
    "print search.num_found"
   ]
  },
  {
   "cell_type": "markdown",
   "id": "c2212770",
   "metadata": {},
   "source": [
    "## Accessing an Internet Archive Item in Python"
   ]
  },
  {
   "cell_type": "code",
   "execution_count": 6,
   "id": "4374df55",
   "metadata": {},
   "outputs": [
    {
     "ename": "NameError",
     "evalue": "name 'internetarchive' is not defined",
     "output_type": "error",
     "traceback": [
      "\u001b[0;31m---------------------------------------------------------------------------\u001b[0m",
      "\u001b[0;31mNameError\u001b[0m                                 Traceback (most recent call last)",
      "Input \u001b[0;32mIn [6]\u001b[0m, in \u001b[0;36m<cell line: 1>\u001b[0;34m()\u001b[0m\n\u001b[0;32m----> 1\u001b[0m item \u001b[38;5;241m=\u001b[39m \u001b[43minternetarchive\u001b[49m\u001b[38;5;241m.\u001b[39mget_item(\u001b[38;5;124m'\u001b[39m\u001b[38;5;124mlettertowilliaml00doug\u001b[39m\u001b[38;5;124m'\u001b[39m)\n\u001b[1;32m      2\u001b[0m item\u001b[38;5;241m.\u001b[39mdownload()\n",
      "\u001b[0;31mNameError\u001b[0m: name 'internetarchive' is not defined"
     ]
    }
   ],
   "source": [
    "item = internetarchive.get_item('lettertowilliaml00doug')\n",
    "item.download()"
   ]
  },
  {
   "cell_type": "code",
   "execution_count": null,
   "id": "86fa348e",
   "metadata": {},
   "outputs": [],
   "source": []
  }
 ],
 "metadata": {
  "kernelspec": {
   "display_name": "Python 3 (ipykernel)",
   "language": "python",
   "name": "python3"
  },
  "language_info": {
   "codemirror_mode": {
    "name": "ipython",
    "version": 3
   },
   "file_extension": ".py",
   "mimetype": "text/x-python",
   "name": "python",
   "nbconvert_exporter": "python",
   "pygments_lexer": "ipython3",
   "version": "3.9.12"
  }
 },
 "nbformat": 4,
 "nbformat_minor": 5
}
