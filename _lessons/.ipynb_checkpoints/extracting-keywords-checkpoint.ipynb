{
 "cells": [
  {
   "cell_type": "markdown",
   "id": "18f17f54",
   "metadata": {},
   "source": [
    "## Source\n",
    "\n",
    "[Adam Crymble, \"Using Gazetteers to Extract Sets of Keywords from Free-Flowing Texts,\" Programming Historian 4 (2015), https://doi.org/10.46430/phen0045.](https://programminghistorian.org/en/lessons/extracting-keywords)"
   ]
  },
  {
   "cell_type": "markdown",
   "id": "f9ac1694",
   "metadata": {},
   "source": [
    "## Reflection\n",
    "\n",
    "TODO"
   ]
  },
  {
   "cell_type": "markdown",
   "id": "66b7de7c",
   "metadata": {},
   "source": [
    "## Code"
   ]
  },
  {
   "cell_type": "markdown",
   "id": "0ba21eb4",
   "metadata": {},
   "source": [
    "## Step 1: Load the Keywords"
   ]
  },
  {
   "cell_type": "code",
   "execution_count": 1,
   "id": "cd0b65fb",
   "metadata": {},
   "outputs": [
    {
     "ename": "FileNotFoundError",
     "evalue": "[Errno 2] No such file or directory: 'gazetteer.txt'",
     "output_type": "error",
     "traceback": [
      "\u001b[0;31m---------------------------------------------------------------------------\u001b[0m",
      "\u001b[0;31mFileNotFoundError\u001b[0m                         Traceback (most recent call last)",
      "Input \u001b[0;32mIn [1]\u001b[0m, in \u001b[0;36m<cell line: 2>\u001b[0;34m()\u001b[0m\n\u001b[1;32m      1\u001b[0m \u001b[38;5;66;03m#Import the keywords\u001b[39;00m\n\u001b[0;32m----> 2\u001b[0m f \u001b[38;5;241m=\u001b[39m \u001b[38;5;28;43mopen\u001b[39;49m\u001b[43m(\u001b[49m\u001b[38;5;124;43m'\u001b[39;49m\u001b[38;5;124;43mgazetteer.txt\u001b[39;49m\u001b[38;5;124;43m'\u001b[39;49m\u001b[43m,\u001b[49m\u001b[43m \u001b[49m\u001b[38;5;124;43m'\u001b[39;49m\u001b[38;5;124;43mr\u001b[39;49m\u001b[38;5;124;43m'\u001b[39;49m\u001b[43m)\u001b[49m\n\u001b[1;32m      3\u001b[0m allKeywords \u001b[38;5;241m=\u001b[39m f\u001b[38;5;241m.\u001b[39mread()\u001b[38;5;241m.\u001b[39mlower()\u001b[38;5;241m.\u001b[39msplit(\u001b[38;5;124m\"\u001b[39m\u001b[38;5;130;01m\\n\u001b[39;00m\u001b[38;5;124m\"\u001b[39m)\n\u001b[1;32m      4\u001b[0m f\u001b[38;5;241m.\u001b[39mclose()\n",
      "\u001b[0;31mFileNotFoundError\u001b[0m: [Errno 2] No such file or directory: 'gazetteer.txt'"
     ]
    }
   ],
   "source": [
    "#Import the keywords\n",
    "f = open('gazetteer.txt', 'r')\n",
    "allKeywords = f.read().lower().split(\"\\n\")\n",
    "f.close()\n",
    "\n",
    "print(allKeywords)\n",
    "print(len(allKeywords))"
   ]
  },
  {
   "cell_type": "markdown",
   "id": "3d842a90",
   "metadata": {},
   "source": [
    "## Step 2: Load the texts"
   ]
  },
  {
   "cell_type": "code",
   "execution_count": 2,
   "id": "db15b2f5",
   "metadata": {},
   "outputs": [
    {
     "ename": "FileNotFoundError",
     "evalue": "[Errno 2] No such file or directory: 'texts.txt'",
     "output_type": "error",
     "traceback": [
      "\u001b[0;31m---------------------------------------------------------------------------\u001b[0m",
      "\u001b[0;31mFileNotFoundError\u001b[0m                         Traceback (most recent call last)",
      "Input \u001b[0;32mIn [2]\u001b[0m, in \u001b[0;36m<cell line: 2>\u001b[0;34m()\u001b[0m\n\u001b[1;32m      1\u001b[0m \u001b[38;5;66;03m#Import the texts you want to search\u001b[39;00m\n\u001b[0;32m----> 2\u001b[0m f \u001b[38;5;241m=\u001b[39m \u001b[38;5;28;43mopen\u001b[39;49m\u001b[43m(\u001b[49m\u001b[38;5;124;43m'\u001b[39;49m\u001b[38;5;124;43mtexts.txt\u001b[39;49m\u001b[38;5;124;43m'\u001b[39;49m\u001b[43m,\u001b[49m\u001b[43m \u001b[49m\u001b[38;5;124;43m'\u001b[39;49m\u001b[38;5;124;43mr\u001b[39;49m\u001b[38;5;124;43m'\u001b[39;49m\u001b[43m)\u001b[49m\n\u001b[1;32m      3\u001b[0m allTexts \u001b[38;5;241m=\u001b[39m f\u001b[38;5;241m.\u001b[39mread()\u001b[38;5;241m.\u001b[39mlower()\u001b[38;5;241m.\u001b[39msplit(\u001b[38;5;124m\"\u001b[39m\u001b[38;5;130;01m\\n\u001b[39;00m\u001b[38;5;124m\"\u001b[39m)\n\u001b[1;32m      4\u001b[0m f\u001b[38;5;241m.\u001b[39mclose()\n",
      "\u001b[0;31mFileNotFoundError\u001b[0m: [Errno 2] No such file or directory: 'texts.txt'"
     ]
    }
   ],
   "source": [
    "#Import the texts you want to search\n",
    "f = open('texts.txt', 'r')\n",
    "allTexts = f.read().lower().split(\"\\n\")\n",
    "f.close()\n",
    "\n",
    "print(allTexts)"
   ]
  },
  {
   "cell_type": "markdown",
   "id": "0070a34c",
   "metadata": {},
   "source": [
    "## Step 3: Remove unwanted punctuation"
   ]
  },
  {
   "cell_type": "code",
   "execution_count": 3,
   "id": "3840a705",
   "metadata": {},
   "outputs": [
    {
     "ename": "NameError",
     "evalue": "name 'allTexts' is not defined",
     "output_type": "error",
     "traceback": [
      "\u001b[0;31m---------------------------------------------------------------------------\u001b[0m",
      "\u001b[0;31mNameError\u001b[0m                                 Traceback (most recent call last)",
      "Input \u001b[0;32mIn [3]\u001b[0m, in \u001b[0;36m<cell line: 1>\u001b[0;34m()\u001b[0m\n\u001b[0;32m----> 1\u001b[0m \u001b[38;5;28;01mfor\u001b[39;00m entry \u001b[38;5;129;01min\u001b[39;00m \u001b[43mallTexts\u001b[49m:\n\u001b[1;32m      2\u001b[0m     \u001b[38;5;66;03m#for each entry:\u001b[39;00m\n\u001b[1;32m      3\u001b[0m     allWords \u001b[38;5;241m=\u001b[39m entry\u001b[38;5;241m.\u001b[39msplit(\u001b[38;5;124m'\u001b[39m\u001b[38;5;124m \u001b[39m\u001b[38;5;124m'\u001b[39m)\n\u001b[1;32m      4\u001b[0m     \u001b[38;5;28;01mfor\u001b[39;00m words \u001b[38;5;129;01min\u001b[39;00m allWords:\n\u001b[1;32m      5\u001b[0m \n\u001b[1;32m      6\u001b[0m         \u001b[38;5;66;03m#remove punctuation that will interfere with matching\u001b[39;00m\n",
      "\u001b[0;31mNameError\u001b[0m: name 'allTexts' is not defined"
     ]
    }
   ],
   "source": [
    "for entry in allTexts:\n",
    "    #for each entry:\n",
    "    allWords = entry.split(' ')\n",
    "    for words in allWords:\n",
    "\n",
    "        #remove punctuation that will interfere with matching\n",
    "        words = words.replace(',', '')\n",
    "        words = words.replace('.', '')\n",
    "        words = words.replace(';', '')"
   ]
  },
  {
   "cell_type": "markdown",
   "id": "7cf53248",
   "metadata": {},
   "source": [
    "## Step 4: Look for matching keywords"
   ]
  },
  {
   "cell_type": "code",
   "execution_count": 4,
   "id": "29253e3d",
   "metadata": {},
   "outputs": [],
   "source": [
    "matches = 0\n",
    "storedMatches = []"
   ]
  },
  {
   "cell_type": "code",
   "execution_count": 6,
   "id": "cb1510f9",
   "metadata": {},
   "outputs": [
    {
     "ename": "SyntaxError",
     "evalue": "'continue' not properly in loop (3934752924.py, line 4)",
     "output_type": "error",
     "traceback": [
      "\u001b[0;36m  Input \u001b[0;32mIn [6]\u001b[0;36m\u001b[0m\n\u001b[0;31m    continue\u001b[0m\n\u001b[0m    ^\u001b[0m\n\u001b[0;31mSyntaxError\u001b[0m\u001b[0;31m:\u001b[0m 'continue' not properly in loop\n"
     ]
    }
   ],
   "source": [
    "#if a keyword match is found, store the result.\n",
    "if words in allKeywords:\n",
    "    if words in storedMatches:\n",
    "        continue\n",
    "    else:\n",
    "        storedMatches.append(words)\n",
    "    matches += 1\n",
    "print(matches)"
   ]
  },
  {
   "cell_type": "markdown",
   "id": "752681c6",
   "metadata": {},
   "source": [
    "## Step 5: Output results"
   ]
  },
  {
   "cell_type": "code",
   "execution_count": null,
   "id": "0cb2d6c7",
   "metadata": {},
   "outputs": [],
   "source": [
    "    #if there is a stored result, print it out\n",
    "    if matches == 0:\n",
    "        print(' ')\n",
    "    else:\n",
    "        matchString = ''\n",
    "        for matches in storedMatches:\n",
    "            matchString = matchString + matches + \"\\t\"\n",
    "\n",
    "        print(matchString)\n"
   ]
  }
 ],
 "metadata": {
  "kernelspec": {
   "display_name": "Python 3 (ipykernel)",
   "language": "python",
   "name": "python3"
  },
  "language_info": {
   "codemirror_mode": {
    "name": "ipython",
    "version": 3
   },
   "file_extension": ".py",
   "mimetype": "text/x-python",
   "name": "python",
   "nbconvert_exporter": "python",
   "pygments_lexer": "ipython3",
   "version": "3.9.12"
  }
 },
 "nbformat": 4,
 "nbformat_minor": 5
}
