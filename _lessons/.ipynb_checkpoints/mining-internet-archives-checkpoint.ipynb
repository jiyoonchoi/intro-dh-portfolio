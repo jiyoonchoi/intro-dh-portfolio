{
 "cells": [
  {
   "cell_type": "markdown",
   "id": "18f17f54",
   "metadata": {},
   "source": [
    "## Source\n",
    "\n",
    "[Caleb McDaniel, \"Data Mining the Internet Archive Collection,\" Programming Historian 3 (2014), https://doi.org/10.46430/phen0035.](https://programminghistorian.org/en/lessons/data-mining-the-internet-archive)"
   ]
  },
  {
   "cell_type": "markdown",
   "id": "f9ac1694",
   "metadata": {},
   "source": [
    "## Reflection\n",
    "\n"
   ]
  },
  {
   "cell_type": "markdown",
   "id": "b1293988",
   "metadata": {},
   "source": [
    "TODO"
   ]
  },
  {
   "cell_type": "markdown",
   "id": "de438ae1",
   "metadata": {},
   "source": [
    "## Code"
   ]
  },
  {
   "cell_type": "markdown",
   "id": "4d51413e",
   "metadata": {},
   "source": [
    "## Preparing Data for Analysis"
   ]
  },
  {
   "cell_type": "code",
   "execution_count": 4,
   "id": "5653d413",
   "metadata": {},
   "outputs": [
    {
     "ename": "SyntaxError",
     "evalue": "invalid syntax (3719670480.py, line 2)",
     "output_type": "error",
     "traceback": [
      "\u001b[0;36m  Input \u001b[0;32mIn [4]\u001b[0;36m\u001b[0m\n\u001b[0;31m    sudo pip install internetarchive\u001b[0m\n\u001b[0m         ^\u001b[0m\n\u001b[0;31mSyntaxError\u001b[0m\u001b[0;31m:\u001b[0m invalid syntax\n"
     ]
    }
   ],
   "source": [
    "# install internetarchive\n",
    "sudo pip install internetarchive\n",
    "\n",
    "# install pymarc\n",
    "sudo pip install pymarc"
   ]
  },
  {
   "cell_type": "markdown",
   "id": "842150fc",
   "metadata": {},
   "source": [
    "## Accessing an Internet Archive Collection in Python"
   ]
  },
  {
   "cell_type": "code",
   "execution_count": 2,
   "id": "8f817afa",
   "metadata": {},
   "outputs": [
    {
     "ename": "SyntaxError",
     "evalue": "Missing parentheses in call to 'print'. Did you mean print(search.num_found)? (2637328764.py, line 4)",
     "output_type": "error",
     "traceback": [
      "\u001b[0;36m  Input \u001b[0;32mIn [2]\u001b[0;36m\u001b[0m\n\u001b[0;31m    print search.num_found\u001b[0m\n\u001b[0m          ^\u001b[0m\n\u001b[0;31mSyntaxError\u001b[0m\u001b[0;31m:\u001b[0m Missing parentheses in call to 'print'. Did you mean print(search.num_found)?\n"
     ]
    }
   ],
   "source": [
    "# import whole library\n",
    "import internetarchive\n",
    "search = internetarchive.search_items('collection:nasa')\n",
    "print search.num_found"
   ]
  },
  {
   "cell_type": "code",
   "execution_count": null,
   "id": "761bb8af",
   "metadata": {},
   "outputs": [],
   "source": []
  }
 ],
 "metadata": {
  "kernelspec": {
   "display_name": "Python 3 (ipykernel)",
   "language": "python",
   "name": "python3"
  },
  "language_info": {
   "codemirror_mode": {
    "name": "ipython",
    "version": 3
   },
   "file_extension": ".py",
   "mimetype": "text/x-python",
   "name": "python",
   "nbconvert_exporter": "python",
   "pygments_lexer": "ipython3",
   "version": "3.9.12"
  }
 },
 "nbformat": 4,
 "nbformat_minor": 5
}
