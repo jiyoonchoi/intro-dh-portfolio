{
 "cells": [
  {
   "cell_type": "markdown",
   "id": "18f17f54",
   "metadata": {},
   "source": [
    "## Source\n",
    "\n",
    "[Zoë Wilkinson Saldaña, \"Sentiment Analysis for Exploratory Data Analysis,\" Programming Historian 7 (2018), https://doi.org/10.46430/phen0079.](https://programminghistorian.org/en/lessons/sentiment-analysis)"
   ]
  },
  {
   "cell_type": "markdown",
   "id": "f9ac1694",
   "metadata": {},
   "source": [
    "## Reflection\n",
    "\n",
    "Sentiment analysis is the use of natural language processing to extract subjective information from a textual corpus. It does so by attempting to quantify the emotional intensity of specific words and phrases in the text at hand. In other words, it uses quantitative methods to acquire qualitative data. In this example from the Programming Historian, sentiment analysis is used as the basis for an exploratory data analysis of a case study called \"the Enron E-mail Corpus\". Exploratory data analysis is essentially a strategy of summarizing or pointing out features of interest within a dataset which would otherwise likely be overlooked. The case study introduces the Enron scandal, where the company Enron was exposed for fraud and the Enron E-mail Corpus contained over 600,000 messages.<br>\n",
    "\n",
    "I learned a lot from this Programming Historian lesson and enjoyed playing around with VADER and word_tokenize, which are of the Natural Language Processing Tool Kit. The idea of sentiment analysis is a highly intuitive concept, and even in its practice I understand how to use the tools provided. Although I don't know the nitty-gritty complex code behind the scenes, as a client I can at least use NPTK appropriate to the scope of my own textual corpus. I found it especially interesting how sentiment analysis still has room to improve in terms of capturing the more complex quirks of human linguistics such as irony, sarcasm, and mockery. Regardless, it's a neat program that can be widely applied."
   ]
  },
  {
   "cell_type": "markdown",
   "id": "66b7de7c",
   "metadata": {},
   "source": [
    "## Code"
   ]
  },
  {
   "cell_type": "markdown",
   "id": "0ba21eb4",
   "metadata": {},
   "source": [
    "## Preparing the Data for Analysis"
   ]
  },
  {
   "cell_type": "code",
   "execution_count": 14,
   "id": "d5fa9c64",
   "metadata": {},
   "outputs": [],
   "source": [
    "# first, we import the relevant modules from the NLTK library\n",
    "from nltk.sentiment.vader import SentimentIntensityAnalyzer"
   ]
  },
  {
   "cell_type": "code",
   "execution_count": 15,
   "id": "2267a14a",
   "metadata": {},
   "outputs": [],
   "source": [
    "# next, we initialize VADER so we can use it within our Python script\n",
    "sid = SentimentIntensityAnalyzer()"
   ]
  },
  {
   "cell_type": "code",
   "execution_count": 19,
   "id": "5e925f3e",
   "metadata": {},
   "outputs": [],
   "source": [
    "# the variable 'message_text' now contains the text we will analyze.\n",
    "message_text = '''Like you, I am getting very frustrated with this process. I am genuinely trying to be as reasonable as possible. I am not trying to \"hold up\" the deal at the last minute. I'm afraid that I am being asked to take a fairly large leap of faith after this company (I don't mean the two of you -- I mean Enron) has screwed me and the people who work for me.'''"
   ]
  },
  {
   "cell_type": "markdown",
   "id": "1ab07ab0",
   "metadata": {},
   "source": [
    "## Analysis Results"
   ]
  },
  {
   "cell_type": "code",
   "execution_count": 22,
   "id": "4bef8228",
   "metadata": {},
   "outputs": [
    {
     "name": "stdout",
     "output_type": "stream",
     "text": [
      "Like you, I am getting very frustrated with this process. I am genuinely trying to be as reasonable as possible. I am not trying to \"hold up\" the deal at the last minute. I'm afraid that I am being asked to take a fairly large leap of faith after this company (I don't mean the two of you -- I mean Enron) has screwed me and the people who work for me.\n"
     ]
    }
   ],
   "source": [
    "print(message_text)\n",
    "\n",
    "# Calling the polarity_scores method on sid and passing in the message_text outputs a dictionary with negative, neutral, positive, and compound scores for the input text\n",
    "scores = sid.polarity_scores(message_text)"
   ]
  },
  {
   "cell_type": "code",
   "execution_count": 23,
   "id": "19690892",
   "metadata": {},
   "outputs": [
    {
     "name": "stdout",
     "output_type": "stream",
     "text": [
      "compound: -0.3804, neg: 0.093, neu: 0.836, pos: 0.071, "
     ]
    }
   ],
   "source": [
    "# Here we loop through the keys contained in scores (pos, neu, neg, and compound scores) and print the key-value pairs on the screen\n",
    "for key in sorted(scores):\n",
    "        print('{0}: {1}, '.format(key, scores[key]), end='')"
   ]
  },
  {
   "cell_type": "markdown",
   "id": "bcda385b",
   "metadata": {},
   "source": [
    "## Challenge Task: \n",
    "Try replacing the contents of message_text with the following strings and re-running the program. Don’t forget to surround each text with three single quotation marks when assigning it to the message_text variable (as in: message_text = ‘'’some words’’‘). Before running the program, guess what you think the sentiment analysis outcome will be: positive, or negative? How strongly positive or negative?"
   ]
  },
  {
   "cell_type": "markdown",
   "id": "23afb6c6",
   "metadata": {},
   "source": [
    "**Example 1**<br><br>\n",
    "Looks great.  I think we should have a least 1 or 2 real time traders in Calgary."
   ]
  },
  {
   "cell_type": "code",
   "execution_count": 61,
   "id": "3f50118d",
   "metadata": {},
   "outputs": [],
   "source": [
    "# updating the variable 'message_text' which contains the text we will analyze.\n",
    "message_text = '''Looks great. I think we should have a least 1 or 2 real time traders in Calgary.'''"
   ]
  },
  {
   "cell_type": "code",
   "execution_count": 62,
   "id": "637264bc",
   "metadata": {},
   "outputs": [],
   "source": [
    "# Calling the polarity_scores method on sid and passing in the message_text outputs a dictionary with negative, neutral, positive, and compound scores for the input text\n",
    "scores = sid.polarity_scores(message_text)"
   ]
  },
  {
   "cell_type": "code",
   "execution_count": 63,
   "id": "bb8a2946",
   "metadata": {},
   "outputs": [
    {
     "name": "stdout",
     "output_type": "stream",
     "text": [
      "compound: 0.6249, neg: 0.0, neu: 0.745, pos: 0.255, "
     ]
    }
   ],
   "source": [
    "# PREDICTION: very positive outcome, not as negative or neutral\n",
    "# Here we loop through the keys contained in scores (pos, neu, neg, and compound scores) and print the key-value pairs on the screen\n",
    "for key in sorted(scores):\n",
    "        print('{0}: {1}, '.format(key, scores[key]), end='')"
   ]
  },
  {
   "cell_type": "markdown",
   "id": "2fd35f2a",
   "metadata": {},
   "source": [
    "**Example 2**<br><br>\n",
    "I think we are making great progress on the systems side.  I would like to\n",
    "set a deadline of November 10th to have a plan on all North American projects\n",
    "(I'm ok if fundementals groups are excluded) that is signed off on by\n",
    "commercial, Sally's world, and Beth's world.  When I say signed off I mean\n",
    "that I want signitures on a piece of paper that everyone is onside with the\n",
    "plan for each project.  If you don't agree don't sign. If certain projects\n",
    "(ie. the gas plan) are not done yet then lay out a timeframe that the plan\n",
    "will be complete.  I want much more in the way of specifics about objectives\n",
    "and timeframe.\n",
    "\n",
    "Thanks for everyone's hard work on this."
   ]
  },
  {
   "cell_type": "code",
   "execution_count": 37,
   "id": "0d3637da",
   "metadata": {},
   "outputs": [],
   "source": [
    "# updating the variable 'message_text' which contains the text we will analyze.\n",
    "message_text = '''I think we are making great progress on the systems side. I would like to set a deadline of November 10th to have a plan on all North American projects (I'm ok if fundementals groups are excluded) that is signed off on by commercial, Sally's world, and Beth's world. When I say signed off I mean that I want signitures on a piece of paper that everyone is onside with the plan for each project. If you don't agree don't sign. If certain projects (ie. the gas plan) are not done yet then lay out a timeframe that the plan will be complete. I want much more in the way of specifics about objectives and timeframe.\n",
    "Thanks for everyone's hard work on this.'''"
   ]
  },
  {
   "cell_type": "code",
   "execution_count": 38,
   "id": "667159d3",
   "metadata": {},
   "outputs": [],
   "source": [
    "# Calling the polarity_scores method on sid and passing in the message_text outputs a dictionary with negative, neutral, positive, and compound scores for the input text\n",
    "scores = sid.polarity_scores(message_text)"
   ]
  },
  {
   "cell_type": "code",
   "execution_count": 39,
   "id": "bcdaf8eb",
   "metadata": {},
   "outputs": [
    {
     "name": "stdout",
     "output_type": "stream",
     "text": [
      "compound: 0.8951, neg: 0.042, neu: 0.821, pos: 0.136, "
     ]
    }
   ],
   "source": [
    "# PREDICTION: more neutral outcome than negative or positive\n",
    "# Here we loop through the keys contained in scores (pos, neu, neg, and compound scores) and print the key-value pairs on the screen\n",
    "for key in sorted(scores):\n",
    "        print('{0}: {1}, '.format(key, scores[key]), end='')"
   ]
  },
  {
   "cell_type": "markdown",
   "id": "32db6f2b",
   "metadata": {},
   "source": [
    "**Example 3 (my own)**<br><br>\n",
    "I really hated the way you designed last week's terrible project proposal."
   ]
  },
  {
   "cell_type": "code",
   "execution_count": 56,
   "id": "594db0cc",
   "metadata": {},
   "outputs": [],
   "source": [
    "# updating the variable 'message_text' which contains the text we will analyze.\n",
    "message_text = '''“I really hated the way you designed last week's terrible project proposal.”'''"
   ]
  },
  {
   "cell_type": "code",
   "execution_count": 57,
   "id": "bf17b81b",
   "metadata": {},
   "outputs": [],
   "source": [
    "# Calling the polarity_scores method on sid and passing in the message_text outputs a dictionary with negative, neutral, positive, and compound scores for the input text\n",
    "scores = sid.polarity_scores(message_text)"
   ]
  },
  {
   "cell_type": "code",
   "execution_count": 59,
   "id": "a9de04f8",
   "metadata": {},
   "outputs": [
    {
     "name": "stdout",
     "output_type": "stream",
     "text": [
      "compound: -0.8221, neg: 0.432, neu: 0.568, pos: 0.0, "
     ]
    }
   ],
   "source": [
    "# PREDICTION: more negative than positive\n",
    "# Here we loop through the keys contained in scores (pos, neu, neg, and compound scores) and print the key-value pairs on the screen\n",
    "for key in sorted(scores):\n",
    "        print('{0}: {1}, '.format(key, scores[key]), end='')"
   ]
  },
  {
   "cell_type": "markdown",
   "id": "ab0e01f3",
   "metadata": {},
   "source": [
    "## Determine Appropriate Scope for E-mail"
   ]
  },
  {
   "cell_type": "markdown",
   "id": "95a4f4dc",
   "metadata": {},
   "source": [
    "**Consider the following text**<br><br>\n",
    "Message-ID: <3764632.1075857565248.JavaMail.evans@thyme><br>\n",
    "Date: Mon, 23 Oct 2000 09:14:00 -0700 (PDT)<br>\n",
    "From: jeffrey.shankman@enron.com<br>\n",
    "To: john.nowlan@enron.com, don.schroeder@enron.com, david.botchlett@enron.com,<br>\n",
    "        chris.mahoney@enron.com, ross.koller@enron.com<br>\n",
    "Subject:<br>\n",
    "Mime-Version: 1.0<br>\n",
    "Content-Type: text/plain; charset=us-ascii<br>\n",
    "Content-Transfer-Encoding: 7bit<br>\n",
    "X-From: Jeffrey A Shankman<br>\n",
    "X-To: John L Nowlan, Don Schroeder, David J Botchlett, Chris Mahoney, Ross Koller<br>\n",
    "X-cc:<br>\n",
    "X-bcc:<br>\n",
    "X-Folder: \\Jeffrey_Shankman_Jun2001\\Notes Folders\\Sent<br>\n",
    "X-Origin: Shankman-J<br>\n",
    "X-FileName: jshankm.nsf<br>\n",
    "\n",
    "It seems to me we are in the middle of no man's land with respect to the\n",
    "following:  Opec production speculation, Mid east crisis and renewed\n",
    "tensions, US elections and what looks like a slowing economy  (?),  and no\n",
    "real weather anywhere in the world.  I think it would be most prudent to play\n",
    "the markets from a very flat price position and try to day trade more\n",
    "aggressively.  I have no intentions of outguessing Mr. Greenspan, the US.\n",
    "electorate, the Opec ministers and their new important roles, The Israeli and\n",
    "Palestinian leaders, and somewhat importantly, Mother Nature.  Given that,\n",
    "and that we cannot afford to lose any more money, and that Var seems to be a\n",
    "problem, let's be as flat as possible. I'm ok with spread risk  (not front to\n",
    "backs, but commodity spreads).<br>\n",
    "\n",
    "\n",
    "The morning meetings are not inspiring, and I don't have a real feel for\n",
    "everyone's passion with respect to the markets.  As such, I'd like to ask\n",
    "John N. to run the morning meetings on Mon. and Wed.\n",
    "\n",
    "\n",
    "Thanks.   Jeff"
   ]
  },
  {
   "cell_type": "code",
   "execution_count": 64,
   "id": "25e21b05",
   "metadata": {},
   "outputs": [],
   "source": [
    "# below is the sentiment analysis code rewritten for sentence-level analysis\n",
    "# note the new module -- word_tokenize!\n",
    "import nltk.data\n",
    "from nltk.sentiment.vader import SentimentIntensityAnalyzer\n",
    "from nltk import sentiment\n",
    "from nltk import word_tokenize"
   ]
  },
  {
   "cell_type": "code",
   "execution_count": 65,
   "id": "eceda0c1",
   "metadata": {},
   "outputs": [],
   "source": [
    "# Next, we initialize VADER so we can use it within our Python script\n",
    "sid = SentimentIntensityAnalyzer()"
   ]
  },
  {
   "cell_type": "code",
   "execution_count": 66,
   "id": "9b307c91",
   "metadata": {},
   "outputs": [],
   "source": [
    "# We will also initialize our 'english.pickle' function and give it a short name\n",
    "tokenizer = nltk.data.load('tokenizers/punkt/english.pickle')"
   ]
  },
  {
   "cell_type": "code",
   "execution_count": 67,
   "id": "57e4af21",
   "metadata": {},
   "outputs": [],
   "source": [
    "# Continue with the same code the previous section, but replace the *message_text* variable with the new e-mail text:\n",
    "message_text = '''It seems to me we are in the middle of no man's land with respect to the  following:  Opec production speculation, Mid east crisis and renewed  tensions, US elections and what looks like a slowing economy (?), and no real weather anywhere in the world. I think it would be most prudent to play  the markets from a very flat price position and try to day trade more aggressively. I have no intentions of outguessing Mr. Greenspan, the US. electorate, the Opec ministers and their new important roles, The Israeli and Palestinian leaders, and somewhat importantly, Mother Nature.  Given that, and that we cannot afford to lose any more money, and that Var seems to be a problem, let's be as flat as possible. I'm ok with spread risk  (not front to backs, but commodity spreads). The morning meetings are not inspiring, and I don't have a real feel for  everyone's passion with respect to the markets.  As such, I'd like to ask  John N. to run the morning meetings on Mon. and Wed.  Thanks. Jeff'''"
   ]
  },
  {
   "cell_type": "code",
   "execution_count": 68,
   "id": "ecf5edb6",
   "metadata": {},
   "outputs": [],
   "source": [
    "# The tokenize method breaks up the paragraph into a list of strings. In this example, note that the tokenizer is confused by the absence of spaces after periods and actually fails to break up sentences in two instances. How might you fix that?\n",
    "sentences = tokenizer.tokenize(message_text)\n"
   ]
  },
  {
   "cell_type": "code",
   "execution_count": 69,
   "id": "d4225326",
   "metadata": {
    "scrolled": false
   },
   "outputs": [
    {
     "name": "stdout",
     "output_type": "stream",
     "text": [
      "It seems to me we are in the middle of no man's land with respect to the  following:  Opec production speculation, Mid east crisis and renewed  tensions, US elections and what looks like a slowing economy (?\n",
      "compound: -0.5267, neg: 0.197, neu: 0.68, pos: 0.123, \n",
      "), and no real weather anywhere in the world.\n",
      "compound: -0.296, neg: 0.216, neu: 0.784, pos: 0.0, \n",
      "I think it would be most prudent to play  the markets from a very flat price position and try to day trade more aggressively.\n",
      "compound: 0.0183, neg: 0.103, neu: 0.792, pos: 0.105, \n",
      "I have no intentions of outguessing Mr. Greenspan, the US.\n",
      "compound: -0.296, neg: 0.216, neu: 0.784, pos: 0.0, \n",
      "electorate, the Opec ministers and their new important roles, The Israeli and Palestinian leaders, and somewhat importantly, Mother Nature.\n",
      "compound: 0.4228, neg: 0.0, neu: 0.817, pos: 0.183, \n",
      "Given that, and that we cannot afford to lose any more money, and that Var seems to be a problem, let's be as flat as possible.\n",
      "compound: -0.1134, neg: 0.097, neu: 0.823, pos: 0.081, \n",
      "I'm ok with spread risk  (not front to backs, but commodity spreads).\n",
      "compound: -0.0129, neg: 0.2, neu: 0.679, pos: 0.121, \n",
      "The morning meetings are not inspiring, and I don't have a real feel for  everyone's passion with respect to the markets.\n",
      "compound: 0.5815, neg: 0.095, neu: 0.655, pos: 0.25, \n",
      "As such, I'd like to ask  John N. to run the morning meetings on Mon.\n",
      "compound: 0.3612, neg: 0.0, neu: 0.848, pos: 0.152, \n",
      "and Wed.\n",
      "compound: 0.0, neg: 0.0, neu: 1.0, pos: 0.0, \n",
      "Thanks.\n",
      "compound: 0.4404, neg: 0.0, neu: 0.0, pos: 1.0, \n",
      "Jeff\n",
      "compound: 0.0, neg: 0.0, neu: 1.0, pos: 0.0, \n"
     ]
    }
   ],
   "source": [
    "# We add the additional step of iterating through the list of sentences and calculating and printing polarity scores for each one.\n",
    "for sentence in sentences:\n",
    "        print(sentence)\n",
    "        scores = sid.polarity_scores(sentence)\n",
    "        for key in sorted(scores):\n",
    "                print('{0}: {1}, '.format(key, scores[key]), end='')\n",
    "        print()"
   ]
  }
 ],
 "metadata": {
  "kernelspec": {
   "display_name": "Python 3 (ipykernel)",
   "language": "python",
   "name": "python3"
  },
  "language_info": {
   "codemirror_mode": {
    "name": "ipython",
    "version": 3
   },
   "file_extension": ".py",
   "mimetype": "text/x-python",
   "name": "python",
   "nbconvert_exporter": "python",
   "pygments_lexer": "ipython3",
   "version": "3.9.12"
  },
  "vscode": {
   "interpreter": {
    "hash": "aee8b7b246df8f9039afb4144a1f6fd8d2ca17a180786b69acc140d282b71a49"
   }
  }
 },
 "nbformat": 4,
 "nbformat_minor": 5
}
